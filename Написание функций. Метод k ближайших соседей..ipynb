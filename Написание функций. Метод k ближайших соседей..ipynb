{
 "cells": [
  {
   "cell_type": "markdown",
   "id": "47806471",
   "metadata": {},
   "source": [
    "# Написание функций. Метод k ближайших соседей."
   ]
  },
  {
   "cell_type": "code",
   "execution_count": 1,
   "id": "5bb27e33",
   "metadata": {},
   "outputs": [],
   "source": [
    "import matplotlib.pyplot as plt\n",
    "import numpy as np\n",
    "import pandas as pd\n",
    "import statistics as st\n",
    "import scipy.stats as scist\n",
    "import seaborn as sns\n",
    "import statsmodels.api as sm\n",
    "\n",
    "from sklearn.neighbors import KNeighborsClassifier"
   ]
  },
  {
   "cell_type": "code",
   "execution_count": 2,
   "id": "15d68bcb",
   "metadata": {},
   "outputs": [],
   "source": [
    "#Загрузим тренировочный датасет Breast cancer wisconsin (diagnostic) dataset \n",
    "#из sklearn.datasets для решения задачи классификации методом k ближайших соседей (kNN)\n",
    "\n",
    "from sklearn import datasets  \n",
    "X, y = datasets.load_breast_cancer(return_X_y=True) "
   ]
  },
  {
   "cell_type": "code",
   "execution_count": 3,
   "id": "e8389d0e",
   "metadata": {},
   "outputs": [],
   "source": [
    "#1 разделим на обучающую и тестовую выборки\n",
    "from sklearn.model_selection import train_test_split\n",
    "x_train, x_test, y_train, y_test = train_test_split(X, y, train_size = 0.7, random_state = 12 )"
   ]
  },
  {
   "cell_type": "markdown",
   "id": "93416c83",
   "metadata": {},
   "source": [
    "1) Исследуем  зависимость ошибок на обучающей и тестовой выборках в методе k ближайших соседей в зависимости от k. Число k нужно взять от 1 до максимально возможного. \n",
    "\n",
    "2) Построим на одном рисунке графики зависимости ошибки на обучающей / тестовой выборках в зависимости от числа соседей k. Определите оптимальное значение k, когда ошибка на тестовой выборке минимальна, отобразите эту точку на графике. Дополнительно проведем пунктирную прямую, соответствующую ошибке наивного байесовского классификатора на тестовой выборке.\n",
    "\n",
    "3) Сделаем выводы о поведении ошибок в зависимости от k.\n",
    "\n",
    "4) Обучим классификатор kNN с оптимальным значением k и вычислите остальные метрики качества этого классификатора (accuracy, f1_score, постройте ROC-кривую и вычислите площадь AUC под этой кривой)."
   ]
  },
  {
   "cell_type": "code",
   "execution_count": 4,
   "id": "974c6a70",
   "metadata": {},
   "outputs": [],
   "source": [
    "# функ. для вычисления ошибки\n",
    "def calc_of_erro (x, y):\n",
    "    n = len(x)\n",
    "    summ = 0\n",
    "    for i in range (0,n):\n",
    "        if x[i]==y[i]:\n",
    "            summ += 0\n",
    "        else:\n",
    "            summ += 1\n",
    "    R = summ/n\n",
    "    \n",
    "    return R"
   ]
  },
  {
   "cell_type": "code",
   "execution_count": 5,
   "id": "0cf58299",
   "metadata": {},
   "outputs": [],
   "source": [
    "#Для k-соседей\n",
    "\n",
    "def err_on_samples (k):\n",
    "   \n",
    "    #задание модели\n",
    "    knn = KNeighborsClassifier(n_neighbors = k)\n",
    "    \n",
    "    #обучение модели на обучающей выборке\n",
    "    knn.fit(x_train, y_train)\n",
    "\n",
    "    y_train_predict = knn.predict(x_train)\n",
    "    y_test_predict = knn.predict(x_test)\n",
    "\n",
    "    r_train = calc_of_erro (list(y_train_predict), list(y_train))\n",
    "    r_test = calc_of_erro (list(y_test_predict), list(y_test))\n",
    "    \n",
    "    return r_train, r_test"
   ]
  },
  {
   "cell_type": "code",
   "execution_count": 6,
   "id": "b56a0b77",
   "metadata": {},
   "outputs": [],
   "source": [
    "list_of_train = []\n",
    "list_of_test = []\n",
    "k = [i for i in range (1, len(x_train)-1)]\n",
    "\n",
    "for i in range (0, len(k) ):\n",
    "    train, test = err_on_samples (k[i])\n",
    "    list_of_train.append(train)\n",
    "    list_of_test.append(test)\n",
    "    if test == min(list_of_test):\n",
    "        k_optim = k[i]"
   ]
  },
  {
   "cell_type": "code",
   "execution_count": 7,
   "id": "9f2d69cc",
   "metadata": {},
   "outputs": [],
   "source": [
    "#для байесовского классификатора\n",
    "#задание модели\n",
    "from sklearn.naive_bayes import GaussianNB\n",
    "nbc = GaussianNB ()\n",
    "\n",
    "#обучение модели на обучающей выборке\n",
    "nbc.fit(x_train, y_train)\n",
    "\n",
    "y_predict_test_NB = nbc.predict(x_test)\n",
    "\n",
    "r_test_NB = calc_of_erro(list(y_predict_test_NB),list(y_test))"
   ]
  },
  {
   "cell_type": "code",
   "execution_count": 8,
   "id": "6b5fc927",
   "metadata": {},
   "outputs": [
    {
     "data": {
      "image/png": "[encoded data removed]",
      "text/plain": [
       "<Figure size 720x360 with 1 Axes>"
      ]
     },
     "metadata": {
      "needs_background": "light"
     },
     "output_type": "display_data"
    },
    {
     "name": "stdout",
     "output_type": "stream",
     "text": [
      "Oптимальное значение k = 9\n"
     ]
    }
   ],
   "source": [
    "fig, ax = plt.subplots(figsize = (10, 5))\n",
    "ax.plot(k, list_of_test, 'r', markersize = 5,  label=\"R test\")\n",
    "ax.plot(k, list_of_train, 'g', markersize = 5, label=\"R train\")\n",
    "\n",
    "min_err = min(list_of_test)\n",
    "plt.scatter(k_optim, min_err, color='k', s=30, marker='o', label=\"min on test\")\n",
    "\n",
    "ax.hlines(r_test_NB, 0, 400, color = 'b', linewidth = 3, linestyle = '--')\n",
    "\n",
    "\n",
    "ax.set_title('Величина ошибок на обучающей и тестовой выборках в зависимости от k')\n",
    "ax.set_xlabel ('Значение k', fontsize = 10)\n",
    "ax.set_ylabel ('Величина ошибки', fontsize = 10)\n",
    "plt.legend()\n",
    "plt.show()\n",
    "\n",
    "print('Oптимальное значение k =', k_optim)"
   ]
  },
  {
   "cell_type": "markdown",
   "id": "30e66e9b",
   "metadata": {},
   "source": [
    "__Вывод:__ \n",
    "1. На графике мы можем видеть, что с возрастанием k, возрастает и ошибка как на тестовой, так и на обучающей выборке. \n",
    "2. Если k ближайших соседей становится равно половине обучающей выборки, величина ошибки на тестовой выборке становится равна величине ошибки на обучающей. И далее, при увеличении значения k, ошибка на обучающей выборке становится больше ошибки на тестовой. \n",
    "3. Когда величина k достигла около 3/4 обучающей выборки, показатели ошибок на обучающей и на тестовой выборках сравнялись и вышли на плато."
   ]
  }
 ],
 "metadata": {
  "kernelspec": {
   "display_name": "Python 3",
   "language": "python",
   "name": "python3"
  },
  "language_info": {
   "codemirror_mode": {
    "name": "ipython",
    "version": 3
   },
   "file_extension": ".py",
   "mimetype": "text/x-python",
   "name": "python",
   "nbconvert_exporter": "python",
   "pygments_lexer": "ipython3",
   "version": "3.8.8"
  }
 },
 "nbformat": 4,
 "nbformat_minor": 5
}
